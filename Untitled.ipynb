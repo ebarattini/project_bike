{
 "cells": [
  {
   "cell_type": "code",
   "execution_count": 1,
   "id": "f1d2da49",
   "metadata": {},
   "outputs": [
    {
     "data": {
      "text/plain": [
       "{0.05: 0.12018652561825657, 0.1: 0.548778199747051, 0.15: 0.3310352746346925}"
      ]
     },
     "execution_count": 1,
     "metadata": {},
     "output_type": "execute_result"
    }
   ],
   "source": [
    "from scipy.stats import binom\n",
    "\n",
    "# Given prior probabilities\n",
    "priors = {0.05: 0.3, 0.1: 0.5, 0.15: 0.2}\n",
    "\n",
    "# Total number of trials and number of successes\n",
    "n = 9\n",
    "k = 2\n",
    "\n",
    "# Calculate likelihoods based on the binomial distribution\n",
    "likelihoods = {theta: binom.pmf(k, n, theta) for theta in priors}\n",
    "\n",
    "# Calculate unnormalized posteriors\n",
    "\n",
    "unnormalized_posteriors = {theta: likelihoods[theta] * priors[theta] for theta in priors}\n",
    "\n",
    "# Calculate normalizing constant\n",
    "normalizing_constant = sum(unnormalized_posteriors.values())\n",
    "\n",
    "# Calculate normalized posteriors\n",
    "posteriors = {theta: unnormalized_posteriors[theta] / normalizing_constant for theta in priors}\n",
    "\n",
    "posteriors\n"
   ]
  },
  {
   "cell_type": "code",
   "execution_count": null,
   "id": "08c4932f",
   "metadata": {},
   "outputs": [],
   "source": []
  }
 ],
 "metadata": {
  "kernelspec": {
   "display_name": "Python 3 (ipykernel)",
   "language": "python",
   "name": "python3"
  },
  "language_info": {
   "codemirror_mode": {
    "name": "ipython",
    "version": 3
   },
   "file_extension": ".py",
   "mimetype": "text/x-python",
   "name": "python",
   "nbconvert_exporter": "python",
   "pygments_lexer": "ipython3",
   "version": "3.10.9"
  }
 },
 "nbformat": 4,
 "nbformat_minor": 5
}
