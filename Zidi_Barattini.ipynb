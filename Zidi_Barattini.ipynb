{
 "cells": [
  {
   "cell_type": "markdown",
   "id": "2a23590b",
   "metadata": {},
   "source": [
    "# MAP 536 - Python for Data Science - Predicting Cyclist Traffic in Paris"
   ]
  },
  {
   "cell_type": "markdown",
   "id": "694a9de7",
   "metadata": {},
   "source": [
    "## Exploratory Data Analysis"
   ]
  },
  {
   "cell_type": "markdown",
   "id": "e44c9f6f",
   "metadata": {},
   "source": [
    "## Prediction"
   ]
  },
  {
   "cell_type": "markdown",
   "id": "d968f6a9",
   "metadata": {},
   "source": [
    "Import all necessary packages"
   ]
  },
  {
   "cell_type": "code",
   "execution_count": 93,
   "id": "5c05d384",
   "metadata": {},
   "outputs": [],
   "source": [
    "import os\n",
    "import pandas as pd\n",
    "from sklearn.preprocessing import StandardScaler\n",
    "from sklearn.linear_model import LinearRegression\n",
    "from sklearn.metrics import mean_squared_error\n",
    "from sklearn.model_selection import train_test_split\n",
    "import numpy as np\n",
    "from pathlib import Path"
   ]
  },
  {
   "cell_type": "markdown",
   "id": "44bf5e59",
   "metadata": {},
   "source": [
    "Load datasets & set target"
   ]
  },
  {
   "cell_type": "code",
   "execution_count": 94,
   "id": "5247cd0e",
   "metadata": {},
   "outputs": [],
   "source": [
    "# Load training and testing datasets\n",
    "train_data = pd.read_parquet(Path(\"data\") / \"train.parquet\")\n",
    "test_data = pd.read_parquet(Path(\"data\") / \"test.parquet\")\n",
    "\n",
    "y_train = train_data['log_bike_count']\n",
    "y_test = test_data['log_bike_count']\n"
   ]
  },
  {
   "cell_type": "markdown",
   "id": "e85a0b72",
   "metadata": {},
   "source": [
    "Data preparation"
   ]
  },
  {
   "cell_type": "code",
   "execution_count": 95,
   "id": "b6daa65a",
   "metadata": {},
   "outputs": [],
   "source": [
    "# select some potentially relevant features for prediction\n",
    "selected_features = ['hour', 'day', 'month', 'latitude', 'longitude'] \n",
    "\n",
    "# Preprocessing pipeline for standardization\n",
    "preprocessor = ColumnTransformer(\n",
    "    transformers=[\n",
    "        ('num', StandardScaler(), selected_features)\n",
    "    ])\n",
    "\n",
    "# Combine preprocessing and model training in a pipeline\n",
    "model = Pipeline(steps=[('preprocessor', preprocessor),\n",
    "                        ('regressor', LinearRegression())])\n",
    "\n",
    "# define number of splits\n",
    "tscv = TimeSeriesSplit(n_splits=5)\n"
   ]
  },
  {
   "cell_type": "markdown",
   "id": "eb0a4e22",
   "metadata": {},
   "source": [
    "Prediction & RMSE"
   ]
  },
  {
   "cell_type": "code",
   "execution_count": 96,
   "id": "5807cb05",
   "metadata": {},
   "outputs": [
    {
     "name": "stdout",
     "output_type": "stream",
     "text": [
      "Average RMSE: 1.6132712130472\n"
     ]
    }
   ],
   "source": [
    "X_train_selected = X_train[selected_features]\n",
    "y_train_log_count = y_train  \n",
    "\n",
    "# Cross-validation scores\n",
    "cross_val_scores = cross_val_score(model, X_train_selected, y_train_log_count, cv=tscv, scoring='neg_root_mean_squared_error')\n",
    "\n",
    "# Average RMSE\n",
    "avg_rmse = -np.mean(cross_val_scores)\n",
    "print(f\"Average RMSE: {avg_rmse}\")\n"
   ]
  },
  {
   "cell_type": "markdown",
   "id": "3e8fc253",
   "metadata": {},
   "source": []
  }
 ],
 "metadata": {
  "kernelspec": {
   "display_name": "Python 3 (ipykernel)",
   "language": "python",
   "name": "python3"
  },
  "language_info": {
   "codemirror_mode": {
    "name": "ipython",
    "version": 3
   },
   "file_extension": ".py",
   "mimetype": "text/x-python",
   "name": "python",
   "nbconvert_exporter": "python",
   "pygments_lexer": "ipython3",
   "version": "3.9.13"
  }
 },
 "nbformat": 4,
 "nbformat_minor": 5
}
