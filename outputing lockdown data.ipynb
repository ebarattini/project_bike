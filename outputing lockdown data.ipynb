{
 "cells": [
  {
   "cell_type": "code",
   "execution_count": 2,
   "id": "b11ee4e6",
   "metadata": {},
   "outputs": [
    {
     "name": "stdout",
     "output_type": "stream",
     "text": [
      "Data saved to 'lockdown_data_Manual.csv'\n"
     ]
    }
   ],
   "source": [
    "import pandas as pd\n",
    "\n",
    "# Define the date ranges for various measures\n",
    "full_lockdown_periods = [\n",
    "    ('2020-03-17', '2020-05-10'),  # First national lockdown\n",
    "    ('2020-10-30', '2020-12-15'),  # Second national lockdown\n",
    "    ('2021-02-26', '2021-05-02'),  # Third set of regional and national lockdowns\n",
    "    # ... Add more periods as needed\n",
    "]\n",
    "\n",
    "partial_lockdown_periods = [\n",
    "    ('2020-05-11', '2020-06-01'),  # Progressive lifting of first lockdown\n",
    "    ('2020-12-15', '2021-04-26'),  # Progressive lifting of restrictions\n",
    "    ('2021-07-13', '2022-07-12')\n",
    "    # ... Add more periods as needed\n",
    "]\n",
    "\n",
    "school_closures_periods = [\n",
    "    ('2020-03-16', '2020-05-10'),  # Closure of schools during first lockdown\n",
    "    ('2021-04-05', '2021-04-25'),  # Closure of schools in April 2021\n",
    "    # ... Add more periods as needed\n",
    "]\n",
    "\n",
    "business_closures_periods = [\n",
    "    ('2020-03-17', '2020-05-30'),  # Closure of non-essential businesses during first lockdown\n",
    "    ('2020-10-15', '2021-05-10'),  # Closure of nightclubs in Nov-Dec 2021\n",
    "    # ... Add more periods as needed\n",
    "]\n",
    "\n",
    "# Determine the overall date range for the DataFrame\n",
    "start_date = '2019-10-01'\n",
    "end_date = '2022-01-31'\n",
    "\n",
    "date_range = pd.date_range(start_date, end_date, freq='D')\n",
    "\n",
    "# Function to check if a date is within any period\n",
    "def is_within_periods(date, periods):\n",
    "    return any(pd.to_datetime(start) <= date <= pd.to_datetime(end) for start, end in periods)\n",
    "\n",
    "# Create a DataFrame\n",
    "df = pd.DataFrame({'date': date_range})\n",
    "df['full_lockdown'] = df['date'].apply(lambda x: is_within_periods(x, full_lockdown_periods)).astype(int)\n",
    "df['partial_lockdown'] = df['date'].apply(lambda x: is_within_periods(x, partial_lockdown_periods)).astype(int)\n",
    "df['school_closures'] = df['date'].apply(lambda x: is_within_periods(x, school_closures_periods)).astype(int)\n",
    "df['business_closures'] = df['date'].apply(lambda x: is_within_periods(x, business_closures_periods)).astype(int)\n",
    "\n",
    "# Duplicate each date 24 times for each hour\n",
    "df = df.loc[df.index.repeat(24)].reset_index(drop=True)\n",
    "df['hour'] = df.groupby('date').cumcount()\n",
    "df['datetime'] = df.apply(lambda x: x['date'] + pd.Timedelta(hours=x['hour']), axis=1)\n",
    "\n",
    "# Reorder and drop columns\n",
    "df = df[['datetime', 'full_lockdown', 'partial_lockdown', 'school_closures', 'business_closures']]\n",
    "\n",
    "# Save to CSV\n",
    "df.to_csv('lockdown_data.csv', index=False)\n",
    "\n",
    "print(\"Data saved to 'lockdown_data_Manual.csv'\")\n"
   ]
  },
  {
   "cell_type": "code",
   "execution_count": null,
   "id": "c09f42ab",
   "metadata": {},
   "outputs": [],
   "source": []
  }
 ],
 "metadata": {
  "kernelspec": {
   "display_name": "Python 3 (ipykernel)",
   "language": "python",
   "name": "python3"
  },
  "language_info": {
   "codemirror_mode": {
    "name": "ipython",
    "version": 3
   },
   "file_extension": ".py",
   "mimetype": "text/x-python",
   "name": "python",
   "nbconvert_exporter": "python",
   "pygments_lexer": "ipython3",
   "version": "3.10.9"
  }
 },
 "nbformat": 4,
 "nbformat_minor": 5
}
